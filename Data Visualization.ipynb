{
 "cells": [
  {
   "cell_type": "code",
   "execution_count": 73,
   "id": "838f3cbc",
   "metadata": {},
   "outputs": [],
   "source": [
    "import pandas as pd\n",
    "import re"
   ]
  },
  {
   "cell_type": "code",
   "execution_count": 74,
   "id": "ac45c312",
   "metadata": {},
   "outputs": [],
   "source": [
    "import matplotlib.pyplot as plt\n",
    "import nltk\n",
    "from nltk.sentiment.vader import SentimentIntensityAnalyzer"
   ]
  },
  {
   "cell_type": "code",
   "execution_count": 4,
   "id": "1c02c9ec",
   "metadata": {},
   "outputs": [
    {
     "name": "stderr",
     "output_type": "stream",
     "text": [
      "[nltk_data] Downloading package vader_lexicon to\n",
      "[nltk_data]     C:\\Users\\18137\\AppData\\Roaming\\nltk_data...\n",
      "[nltk_data]   Package vader_lexicon is already up-to-date!\n"
     ]
    },
    {
     "data": {
      "text/plain": [
       "True"
      ]
     },
     "execution_count": 4,
     "metadata": {},
     "output_type": "execute_result"
    }
   ],
   "source": [
    "nltk.download('vader_lexicon')"
   ]
  },
  {
   "cell_type": "code",
   "execution_count": 75,
   "id": "688f58e3",
   "metadata": {},
   "outputs": [
    {
     "data": {
      "text/html": [
       "<div>\n",
       "<style scoped>\n",
       "    .dataframe tbody tr th:only-of-type {\n",
       "        vertical-align: middle;\n",
       "    }\n",
       "\n",
       "    .dataframe tbody tr th {\n",
       "        vertical-align: top;\n",
       "    }\n",
       "\n",
       "    .dataframe thead th {\n",
       "        text-align: right;\n",
       "    }\n",
       "</style>\n",
       "<table border=\"1\" class=\"dataframe\">\n",
       "  <thead>\n",
       "    <tr style=\"text-align: right;\">\n",
       "      <th></th>\n",
       "      <th>Unnamed: 0</th>\n",
       "      <th>reviews</th>\n",
       "    </tr>\n",
       "  </thead>\n",
       "  <tbody>\n",
       "    <tr>\n",
       "      <th>0</th>\n",
       "      <td>0</td>\n",
       "      <td>['not', 'verified', 'we', 'will', 'never', 'fl...</td>\n",
       "    </tr>\n",
       "    <tr>\n",
       "      <th>1</th>\n",
       "      <td>1</td>\n",
       "      <td>['trip', 'verified', 'check', 'in', 'and', 'se...</td>\n",
       "    </tr>\n",
       "    <tr>\n",
       "      <th>2</th>\n",
       "      <td>2</td>\n",
       "      <td>['not', 'verified', 'british', 'airways', 'has...</td>\n",
       "    </tr>\n",
       "    <tr>\n",
       "      <th>3</th>\n",
       "      <td>3</td>\n",
       "      <td>['trip', 'verified', 'worst', 'ba', 'experienc...</td>\n",
       "    </tr>\n",
       "    <tr>\n",
       "      <th>4</th>\n",
       "      <td>4</td>\n",
       "      <td>['trip', 'verified', 'my', 'daughter', 'and', ...</td>\n",
       "    </tr>\n",
       "  </tbody>\n",
       "</table>\n",
       "</div>"
      ],
      "text/plain": [
       "   Unnamed: 0                                            reviews\n",
       "0           0  ['not', 'verified', 'we', 'will', 'never', 'fl...\n",
       "1           1  ['trip', 'verified', 'check', 'in', 'and', 'se...\n",
       "2           2  ['not', 'verified', 'british', 'airways', 'has...\n",
       "3           3  ['trip', 'verified', 'worst', 'ba', 'experienc...\n",
       "4           4  ['trip', 'verified', 'my', 'daughter', 'and', ..."
      ]
     },
     "execution_count": 75,
     "metadata": {},
     "output_type": "execute_result"
    }
   ],
   "source": [
    "data=pd.read_csv(\"cleaned_dataset.csv\")\n",
    "data.head(5)"
   ]
  },
  {
   "cell_type": "code",
   "execution_count": 102,
   "id": "1de4064c",
   "metadata": {},
   "outputs": [],
   "source": [
    "\n",
    "airline_positive_lexicon = ['excellent', 'amazing', 'great', 'wonderful', 'smooth', 'comfortable', 'helpful','hasslefree','quick','good','efficient','Outstanding','Delightful','Exceptional','Top-notch','Pleased']\n",
    "airline_negative_lexicon = ['delay', 'worst','cancellation', 'rude', 'poor', 'uncomfortable', 'complaint', 'awful','indifferent','unresponsive','Frustration','Frustated','inconvenient','disappointing','terrible','problem','Lousy','displeased','annoying']"
   ]
  },
  {
   "cell_type": "code",
   "execution_count": 103,
   "id": "93be79ed",
   "metadata": {},
   "outputs": [],
   "source": [
    "def calculate_sentiment_score(text):\n",
    "    text = text.lower()\n",
    "    positive_count = sum(1 for word in airline_positive_lexicon if word in text)\n",
    "    negative_count = sum(1 for word in airline_negative_lexicon if word in text)\n",
    "    sentiment_score = positive_count - negative_count\n",
    "    return sentiment_score\n",
    "data['Sentiment_Score'] = data['reviews'].apply(calculate_sentiment_score)"
   ]
  },
  {
   "cell_type": "code",
   "execution_count": 104,
   "id": "79583daa",
   "metadata": {},
   "outputs": [],
   "source": [
    "def categorize_sentiment(score):\n",
    "    if score > 0:\n",
    "        return 'Positive'\n",
    "    elif score < 0:\n",
    "        return 'Negative'\n",
    "    else:\n",
    "        return 'Neutral'\n",
    "\n",
    "data['Sentiment'] = data['Sentiment_Score'].apply(categorize_sentiment)"
   ]
  },
  {
   "cell_type": "code",
   "execution_count": 105,
   "id": "1f995df5",
   "metadata": {},
   "outputs": [],
   "source": [
    "data.to_csv(\"sentiment.csv\")"
   ]
  },
  {
   "cell_type": "code",
   "execution_count": 106,
   "id": "1017dc0d",
   "metadata": {},
   "outputs": [
    {
     "data": {
      "image/png": "[encoded data removed]",
      "text/plain": [
       "<Figure size 576x288 with 1 Axes>"
      ]
     },
     "metadata": {
      "needs_background": "light"
     },
     "output_type": "display_data"
    },
    {
     "data": {
      "image/png": "[encoded data removed]",
      "text/plain": [
       "<Figure size 432x432 with 1 Axes>"
      ]
     },
     "metadata": {},
     "output_type": "display_data"
    }
   ],
   "source": [
    "import matplotlib.pyplot as plt\n",
    "sentiment_counts = data['Sentiment'].value_counts()\n",
    "\n",
    "# Create a bar chart\n",
    "plt.figure(figsize=(8, 4))\n",
    "plt.bar(sentiment_counts.index, sentiment_counts.values)\n",
    "plt.xlabel('Sentiment')\n",
    "plt.ylabel('Count')\n",
    "plt.title('Sentiment Distribution (Bar Chart)')\n",
    "plt.show()\n",
    "\n",
    "# Create a pie chart\n",
    "plt.figure(figsize=(6, 6))\n",
    "plt.pie(sentiment_counts, labels=sentiment_counts.index, autopct='%1.1f%%', startangle=90)\n",
    "plt.title('Sentiment Distribution (Pie Chart)')\n",
    "plt.show()"
   ]
  },
  {
   "cell_type": "code",
   "execution_count": 107,
   "id": "8f4d56e9",
   "metadata": {},
   "outputs": [
    {
     "data": {
      "image/png": "[encoded data removed]",
      "text/plain": [
       "<Figure size 576x288 with 1 Axes>"
      ]
     },
     "metadata": {
      "needs_background": "light"
     },
     "output_type": "display_data"
    }
   ],
   "source": [
    "import seaborn as sns\n",
    "plt.figure(figsize=(8, 4))\n",
    "sns.boxplot(data=df, x='Sentiment', y='Sentiment_Score')\n",
    "plt.xlabel('Sentiment')\n",
    "plt.ylabel('Sentiment_Score')\n",
    "plt.title('Box Plot of Sentiment Scores by Sentiment')\n",
    "plt.show()"
   ]
  },
  {
   "cell_type": "code",
   "execution_count": null,
   "id": "23185660",
   "metadata": {},
   "outputs": [],
   "source": []
  }
 ],
 "metadata": {
  "kernelspec": {
   "display_name": "Python 3",
   "language": "python",
   "name": "python3"
  },
  "language_info": {
   "codemirror_mode": {
    "name": "ipython",
    "version": 3
   },
   "file_extension": ".py",
   "mimetype": "text/x-python",
   "name": "python",
   "nbconvert_exporter": "python",
   "pygments_lexer": "ipython3",
   "version": "3.8.8"
  }
 },
 "nbformat": 4,
 "nbformat_minor": 5
}
